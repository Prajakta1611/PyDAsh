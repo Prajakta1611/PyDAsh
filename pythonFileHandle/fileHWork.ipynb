{
 "cells": [
  {
   "cell_type": "code",
   "execution_count": 1,
   "id": "580b76a1",
   "metadata": {},
   "outputs": [],
   "source": [
    "# Write a Python program to read an entire text file."
   ]
  },
  {
   "cell_type": "code",
   "execution_count": 14,
   "id": "57fa1ffb",
   "metadata": {},
   "outputs": [
    {
     "data": {
      "text/plain": [
       "'File handling is an integral part of programming. File handling in Python is simplified with built-in methods, which include creating, opening, and closing files.\\nWhile files are open, Python additionally allows performing various file operations, such as reading, writing, and appending information.'"
      ]
     },
     "execution_count": 14,
     "metadata": {},
     "output_type": "execute_result"
    }
   ],
   "source": [
    "f = open(\"fileHand\",\"r\")\n",
    "f.read()"
   ]
  },
  {
   "cell_type": "code",
   "execution_count": 15,
   "id": "8d451d26",
   "metadata": {},
   "outputs": [],
   "source": [
    "# Write a Python program to read first n lines of a file"
   ]
  },
  {
   "cell_type": "code",
   "execution_count": 20,
   "id": "1434cc62",
   "metadata": {},
   "outputs": [
    {
     "data": {
      "text/plain": [
       "'File handling is an integral part of programming. File handling in Python is simplified with built-in methods, which include creating, opening, and closing files.\\n'"
      ]
     },
     "execution_count": 20,
     "metadata": {},
     "output_type": "execute_result"
    }
   ],
   "source": [
    "f.seek(0)\n",
    "f.readline()"
   ]
  },
  {
   "cell_type": "code",
   "execution_count": 21,
   "id": "64dcae54",
   "metadata": {},
   "outputs": [],
   "source": [
    "# Write a Python program to append text to a file and display the text."
   ]
  },
  {
   "cell_type": "code",
   "execution_count": 38,
   "id": "579bace9",
   "metadata": {},
   "outputs": [],
   "source": [
    "f = open(\"fileHand\",\"a\")\n",
    "f.write(\"hello\")\n",
    "f.close()"
   ]
  },
  {
   "cell_type": "code",
   "execution_count": 39,
   "id": "d8f73883",
   "metadata": {},
   "outputs": [
    {
     "data": {
      "text/plain": [
       "'File handling is an integral part of programming. File handling in Python is simplified with built-in methods, which include creating, opening, and closing files.\\nWhile files are open, Python additionally allows performing various file operations, such as reading, writing, and appending information.hellohello'"
      ]
     },
     "execution_count": 39,
     "metadata": {},
     "output_type": "execute_result"
    }
   ],
   "source": [
    "f = open(\"fileHand\",\"r\")\n",
    "f.read()"
   ]
  },
  {
   "cell_type": "code",
   "execution_count": 40,
   "id": "e7c347b8",
   "metadata": {},
   "outputs": [],
   "source": [
    "# Write a Python program to read a file line by line store it into a variable"
   ]
  },
  {
   "cell_type": "code",
   "execution_count": 67,
   "id": "67a340ba",
   "metadata": {},
   "outputs": [
    {
     "data": {
      "text/plain": [
       "'File handling is an integral part of programming. File handling in Python is simplified with built-in methods, which include creating, opening, and closing files.\\n'"
      ]
     },
     "execution_count": 67,
     "metadata": {},
     "output_type": "execute_result"
    }
   ],
   "source": [
    "f = open(\"fileHand\",\"r\")\n",
    "rd = f.readline()\n",
    "rd\n"
   ]
  },
  {
   "cell_type": "code",
   "execution_count": 68,
   "id": "0777b08d",
   "metadata": {},
   "outputs": [],
   "source": [
    "# Write a Python program to read a file line by line and store it into a list.\n"
   ]
  },
  {
   "cell_type": "code",
   "execution_count": 70,
   "id": "4634946d",
   "metadata": {},
   "outputs": [
    {
     "data": {
      "text/plain": [
       "['File handling is an integral part of programming. File handling in Python is simplified with built-in methods, which include creating, opening, and closing files.\\n',\n",
       " 'While files are open, Python additionally allows performing various file operations, such as reading, writing, and appending information.hellohello']"
      ]
     },
     "execution_count": 70,
     "metadata": {},
     "output_type": "execute_result"
    }
   ],
   "source": [
    "f = open(\"fileHand\",\"r\")\n",
    "rd = f.readlines()\n",
    "rd\n"
   ]
  },
  {
   "cell_type": "code",
   "execution_count": 72,
   "id": "3e3622e1",
   "metadata": {},
   "outputs": [
    {
     "ename": "NameError",
     "evalue": "name 'copyfile' is not defined",
     "output_type": "error",
     "traceback": [
      "\u001b[1;31m---------------------------------------------------------------------------\u001b[0m",
      "\u001b[1;31mNameError\u001b[0m                                 Traceback (most recent call last)",
      "Cell \u001b[1;32mIn[72], line 1\u001b[0m\n\u001b[1;32m----> 1\u001b[0m \u001b[43mcopyfile\u001b[49m(\u001b[38;5;124m\"\u001b[39m\u001b[38;5;124mfileHand.txt\u001b[39m\u001b[38;5;124m\"\u001b[39m,\u001b[38;5;124m\"\u001b[39m\u001b[38;5;124mFileHandling.txt\u001b[39m\u001b[38;5;124m\"\u001b[39m)\n",
      "\u001b[1;31mNameError\u001b[0m: name 'copyfile' is not defined"
     ]
    }
   ],
   "source": []
  },
  {
   "cell_type": "code",
   "execution_count": null,
   "id": "59d033eb",
   "metadata": {},
   "outputs": [],
   "source": []
  }
 ],
 "metadata": {
  "kernelspec": {
   "display_name": "Python 3 (ipykernel)",
   "language": "python",
   "name": "python3"
  },
  "language_info": {
   "codemirror_mode": {
    "name": "ipython",
    "version": 3
   },
   "file_extension": ".py",
   "mimetype": "text/x-python",
   "name": "python",
   "nbconvert_exporter": "python",
   "pygments_lexer": "ipython3",
   "version": "3.8.2"
  }
 },
 "nbformat": 4,
 "nbformat_minor": 5
}
