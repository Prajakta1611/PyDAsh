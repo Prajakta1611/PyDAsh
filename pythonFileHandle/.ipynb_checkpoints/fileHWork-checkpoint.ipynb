{
 "cells": [
  {
   "cell_type": "code",
   "execution_count": 1,
   "id": "2244f9bd",
   "metadata": {},
   "outputs": [],
   "source": [
    "# Write a Python program to read an entire text file."
   ]
  },
  {
   "cell_type": "code",
   "execution_count": 14,
   "id": "402621a6",
   "metadata": {},
   "outputs": [
    {
     "data": {
      "text/plain": [
       "'File handling is an integral part of programming. File handling in Python is simplified with built-in methods, which include creating, opening, and closing files.\\nWhile files are open, Python additionally allows performing various file operations, such as reading, writing, and appending information.'"
      ]
     },
     "execution_count": 14,
     "metadata": {},
     "output_type": "execute_result"
    }
   ],
   "source": [
    "f = open(\"fileHand\",\"r\")\n",
    "f.read()"
   ]
  },
  {
   "cell_type": "code",
   "execution_count": 15,
   "id": "f5f68ae1",
   "metadata": {},
   "outputs": [],
   "source": [
    "# Write a Python program to read first n lines of a file"
   ]
  },
  {
   "cell_type": "code",
   "execution_count": 20,
   "id": "99365b20",
   "metadata": {},
   "outputs": [
    {
     "data": {
      "text/plain": [
       "'File handling is an integral part of programming. File handling in Python is simplified with built-in methods, which include creating, opening, and closing files.\\n'"
      ]
     },
     "execution_count": 20,
     "metadata": {},
     "output_type": "execute_result"
    }
   ],
   "source": [
    "f.seek(0)\n",
    "f.readline()"
   ]
  },
  {
   "cell_type": "code",
   "execution_count": 21,
   "id": "4e75b916",
   "metadata": {},
   "outputs": [],
   "source": [
    "# Write a Python program to append text to a file and display the text."
   ]
  },
  {
   "cell_type": "code",
   "execution_count": 28,
   "id": "8efc0534",
   "metadata": {},
   "outputs": [
    {
     "name": "stdout",
     "output_type": "stream",
     "text": [
      "5\n"
     ]
    }
   ],
   "source": [
    "f = open(\"fileHand\",\"a\")\n",
    "f.write(\"hello\")"
   ]
  },
  {
   "cell_type": "code",
   "execution_count": null,
   "id": "f93097ae",
   "metadata": {},
   "outputs": [],
   "source": []
  }
 ],
 "metadata": {
  "kernelspec": {
   "display_name": "Python 3 (ipykernel)",
   "language": "python",
   "name": "python3"
  },
  "language_info": {
   "codemirror_mode": {
    "name": "ipython",
    "version": 3
   },
   "file_extension": ".py",
   "mimetype": "text/x-python",
   "name": "python",
   "nbconvert_exporter": "python",
   "pygments_lexer": "ipython3",
   "version": "3.8.2"
  }
 },
 "nbformat": 4,
 "nbformat_minor": 5
}
