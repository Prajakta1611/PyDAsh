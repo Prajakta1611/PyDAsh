{
 "cells": [
  {
   "cell_type": "code",
   "execution_count": 1,
   "id": "3117206e",
   "metadata": {},
   "outputs": [],
   "source": [
    "# Write a Python program to read an entire text file."
   ]
  },
  {
   "cell_type": "code",
   "execution_count": 14,
   "id": "ebb9e8ad",
   "metadata": {},
   "outputs": [
    {
     "data": {
      "text/plain": [
       "'File handling is an integral part of programming. File handling in Python is simplified with built-in methods, which include creating, opening, and closing files.\\nWhile files are open, Python additionally allows performing various file operations, such as reading, writing, and appending information.'"
      ]
     },
     "execution_count": 14,
     "metadata": {},
     "output_type": "execute_result"
    }
   ],
   "source": [
    "f = open(\"fileHand\",\"r\")\n",
    "f.read()"
   ]
  },
  {
   "cell_type": "code",
   "execution_count": 15,
   "id": "e8760206",
   "metadata": {},
   "outputs": [],
   "source": [
    "# Write a Python program to read first n lines of a file"
   ]
  },
  {
   "cell_type": "code",
   "execution_count": 20,
   "id": "a5afea9e",
   "metadata": {},
   "outputs": [
    {
     "data": {
      "text/plain": [
       "'File handling is an integral part of programming. File handling in Python is simplified with built-in methods, which include creating, opening, and closing files.\\n'"
      ]
     },
     "execution_count": 20,
     "metadata": {},
     "output_type": "execute_result"
    }
   ],
   "source": [
    "f.seek(0)\n",
    "f.readline()"
   ]
  },
  {
   "cell_type": "code",
   "execution_count": 21,
   "id": "92abb03d",
   "metadata": {},
   "outputs": [],
   "source": [
    "# Write a Python program to append text to a file and display the text."
   ]
  },
  {
   "cell_type": "code",
   "execution_count": 38,
   "id": "d3f58591",
   "metadata": {},
   "outputs": [],
   "source": [
    "f = open(\"fileHand\",\"a\")\n",
    "f.write(\"hello\")\n",
    "f.close()"
   ]
  },
  {
   "cell_type": "code",
   "execution_count": 39,
   "id": "1f4c09c7",
   "metadata": {},
   "outputs": [
    {
     "data": {
      "text/plain": [
       "'File handling is an integral part of programming. File handling in Python is simplified with built-in methods, which include creating, opening, and closing files.\\nWhile files are open, Python additionally allows performing various file operations, such as reading, writing, and appending information.hellohello'"
      ]
     },
     "execution_count": 39,
     "metadata": {},
     "output_type": "execute_result"
    }
   ],
   "source": [
    "f = open(\"fileHand\",\"r\")\n",
    "f.read()"
   ]
  },
  {
   "cell_type": "code",
   "execution_count": 40,
   "id": "164fb1b7",
   "metadata": {},
   "outputs": [],
   "source": [
    "# Write a Python program to read a file line by line store it into a variable"
   ]
  },
  {
   "cell_type": "code",
   "execution_count": 67,
   "id": "27ab8cef",
   "metadata": {},
   "outputs": [
    {
     "data": {
      "text/plain": [
       "'File handling is an integral part of programming. File handling in Python is simplified with built-in methods, which include creating, opening, and closing files.\\n'"
      ]
     },
     "execution_count": 67,
     "metadata": {},
     "output_type": "execute_result"
    }
   ],
   "source": [
    "f = open(\"fileHand\",\"r\")\n",
    "rd = f.readline()\n",
    "rd\n"
   ]
  },
  {
   "cell_type": "code",
   "execution_count": 68,
   "id": "91a809f9",
   "metadata": {},
   "outputs": [],
   "source": [
    "# Write a Python program to read a file line by line and store it into a list.\n"
   ]
  },
  {
   "cell_type": "code",
   "execution_count": 70,
   "id": "853dcd63",
   "metadata": {},
   "outputs": [
    {
     "data": {
      "text/plain": [
       "['File handling is an integral part of programming. File handling in Python is simplified with built-in methods, which include creating, opening, and closing files.\\n',\n",
       " 'While files are open, Python additionally allows performing various file operations, such as reading, writing, and appending information.hellohello']"
      ]
     },
     "execution_count": 70,
     "metadata": {},
     "output_type": "execute_result"
    }
   ],
   "source": [
    "f = open(\"fileHand\",\"r\")\n",
    "rd = f.readlines()\n",
    "rd\n"
   ]
  },
  {
   "cell_type": "code",
   "execution_count": null,
   "id": "06152e3f",
   "metadata": {},
   "outputs": [],
   "source": []
  }
 ],
 "metadata": {
  "kernelspec": {
   "display_name": "Python 3 (ipykernel)",
   "language": "python",
   "name": "python3"
  },
  "language_info": {
   "codemirror_mode": {
    "name": "ipython",
    "version": 3
   },
   "file_extension": ".py",
   "mimetype": "text/x-python",
   "name": "python",
   "nbconvert_exporter": "python",
   "pygments_lexer": "ipython3",
   "version": "3.8.2"
  }
 },
 "nbformat": 4,
 "nbformat_minor": 5
}
